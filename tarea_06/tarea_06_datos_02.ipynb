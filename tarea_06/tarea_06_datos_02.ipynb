{
  "nbformat": 4,
  "nbformat_minor": 0,
  "metadata": {
    "colab": {
      "name": "tarea_06_datos_02.ipynb",
      "provenance": [],
      "collapsed_sections": [
        "nqJpuMsNoUOj",
        "u5IY1ulV2l7X",
        "t7g_wHLHRayp",
        "xT53l2VJ4ZSo",
        "AfnVK9jfuJmz",
        "5GDvr24NWlBS",
        "1IUhYOGc2AJw",
        "7AVfJ3dh8vkx",
        "2ngoHbUjFbfZ",
        "l2GzD7wnbHUi",
        "up9itcNSeTOV"
      ],
      "toc_visible": true
    },
    "kernelspec": {
      "display_name": "R",
      "name": "ir"
    }
  },
  "cells": [
    {
      "cell_type": "markdown",
      "metadata": {
        "id": "yXfUiN3QlT4u"
      },
      "source": [
        "# Inicialización de R"
      ]
    },
    {
      "cell_type": "code",
      "metadata": {
        "colab": {
          "base_uri": "https://localhost:8080/",
          "height": 34
        },
        "id": "Ta5f51-adInV",
        "outputId": "07e15a92-6e50-4f6a-c4f1-388ad48db297"
      },
      "source": [
        "R.version.string"
      ],
      "execution_count": 1,
      "outputs": [
        {
          "output_type": "display_data",
          "data": {
            "text/plain": [
              "[1] \"R version 4.0.5 (2021-03-31)\""
            ],
            "text/latex": "'R version 4.0.5 (2021-03-31)'",
            "text/markdown": "'R version 4.0.5 (2021-03-31)'",
            "text/html": [
              "'R version 4.0.5 (2021-03-31)'"
            ]
          },
          "metadata": {
            "tags": []
          }
        }
      ]
    },
    {
      "cell_type": "markdown",
      "metadata": {
        "id": "mXAzA3INlTFA"
      },
      "source": [
        "## Instalación de paquetes\n",
        "\n",
        "* `tidyverse` Metapaquete de todos los paquetes tidyverse \n",
        "* `caret` Contiene la funcion `confusionMatrix`\n",
        "* `matlib` Contiene la función `inv` para la inversa de una matriz."
      ]
    },
    {
      "cell_type": "code",
      "metadata": {
        "id": "Mx0Lqq22lncP",
        "colab": {
          "base_uri": "https://localhost:8080/"
        },
        "outputId": "dca6547d-7e43-4032-b503-551a074ee9fa"
      },
      "source": [
        "if(\"tidyverse\" %in% rownames(installed.packages()) == FALSE) {install.packages(\"tidyverse\")}\n",
        "if(\"caret\" %in% rownames(installed.packages()) == FALSE) {install.packages(\"caret\")}\n",
        "if(\"gmodels\" %in% rownames(installed.packages()) == FALSE) {install.packages(\"gmodels\")}\n",
        "if(\"MASS\" %in% rownames(installed.packages()) == FALSE) {install.packages(\"MASS\")}\n",
        "\n",
        "if(\"MVN\" %in% rownames(installed.packages()) == FALSE) {install.packages(\"MVN\")}"
      ],
      "execution_count": 2,
      "outputs": [
        {
          "output_type": "stream",
          "text": [
            "Installing package into ‘/usr/local/lib/R/site-library’\n",
            "(as ‘lib’ is unspecified)\n",
            "\n",
            "also installing the dependencies ‘gsl’, ‘energy’\n",
            "\n",
            "\n",
            "Warning message in install.packages(\"MVN\"):\n",
            "“installation of package ‘gsl’ had non-zero exit status”\n",
            "Warning message in install.packages(\"MVN\"):\n",
            "“installation of package ‘energy’ had non-zero exit status”\n",
            "Warning message in install.packages(\"MVN\"):\n",
            "“installation of package ‘MVN’ had non-zero exit status”\n"
          ],
          "name": "stderr"
        }
      ]
    },
    {
      "cell_type": "markdown",
      "metadata": {
        "id": "nqJpuMsNoUOj"
      },
      "source": [
        "# Conjunto de Datos\n",
        "En este ejercicio trabajamos con los datos de Iris que Ronald Fisher usó para introducir LDA. Están en R como `iris`."
      ]
    },
    {
      "cell_type": "markdown",
      "metadata": {
        "id": "CrHkZzBDVTrb"
      },
      "source": [
        "## Contexto\n",
        "\n",
        "El conjunto de datos de flores de Iris o el conjunto de datos de Fisher Iris es un conjunto de datos multivariado introducido por Sir Ronald Fisher en 1936 como un ejemplo de análisis discriminante."
      ]
    },
    {
      "cell_type": "markdown",
      "metadata": {
        "id": "u5IY1ulV2l7X"
      },
      "source": [
        "## Contenido\n",
        "\n",
        "El conjunto de datos consta de 50 muestras de cada una de las tres especies de Iris (Iris setosa, Iris virginica e Iris versicolor), es decir, 150 muestras en total. De cada muestra se midieron cuatro características: el largo y el ancho de los sépalos y pétalos, en centímetros."
      ]
    },
    {
      "cell_type": "markdown",
      "metadata": {
        "id": "t7g_wHLHRayp"
      },
      "source": [
        "### Lectura y almacenamiento de datos\n"
      ]
    },
    {
      "cell_type": "code",
      "metadata": {
        "colab": {
          "base_uri": "https://localhost:8080/",
          "height": 0
        },
        "id": "hiIyb82qHxYk",
        "outputId": "d98bd1e6-cabe-48c2-c099-dae67c9080ac"
      },
      "source": [
        "# 1. Lectura y almacenamiento de datos en data.frame\n",
        "data <- iris\n",
        "# 2. Observacion algunos registros.\n",
        "head(data, 3)"
      ],
      "execution_count": 3,
      "outputs": [
        {
          "output_type": "display_data",
          "data": {
            "text/plain": [
              "  Sepal.Length Sepal.Width Petal.Length Petal.Width Species\n",
              "1 5.1          3.5         1.4          0.2         setosa \n",
              "2 4.9          3.0         1.4          0.2         setosa \n",
              "3 4.7          3.2         1.3          0.2         setosa "
            ],
            "text/latex": "A data.frame: 3 × 5\n\\begin{tabular}{r|lllll}\n  & Sepal.Length & Sepal.Width & Petal.Length & Petal.Width & Species\\\\\n  & <dbl> & <dbl> & <dbl> & <dbl> & <fct>\\\\\n\\hline\n\t1 & 5.1 & 3.5 & 1.4 & 0.2 & setosa\\\\\n\t2 & 4.9 & 3.0 & 1.4 & 0.2 & setosa\\\\\n\t3 & 4.7 & 3.2 & 1.3 & 0.2 & setosa\\\\\n\\end{tabular}\n",
            "text/markdown": "\nA data.frame: 3 × 5\n\n| <!--/--> | Sepal.Length &lt;dbl&gt; | Sepal.Width &lt;dbl&gt; | Petal.Length &lt;dbl&gt; | Petal.Width &lt;dbl&gt; | Species &lt;fct&gt; |\n|---|---|---|---|---|---|\n| 1 | 5.1 | 3.5 | 1.4 | 0.2 | setosa |\n| 2 | 4.9 | 3.0 | 1.4 | 0.2 | setosa |\n| 3 | 4.7 | 3.2 | 1.3 | 0.2 | setosa |\n\n",
            "text/html": [
              "<table class=\"dataframe\">\n",
              "<caption>A data.frame: 3 × 5</caption>\n",
              "<thead>\n",
              "\t<tr><th></th><th scope=col>Sepal.Length</th><th scope=col>Sepal.Width</th><th scope=col>Petal.Length</th><th scope=col>Petal.Width</th><th scope=col>Species</th></tr>\n",
              "\t<tr><th></th><th scope=col>&lt;dbl&gt;</th><th scope=col>&lt;dbl&gt;</th><th scope=col>&lt;dbl&gt;</th><th scope=col>&lt;dbl&gt;</th><th scope=col>&lt;fct&gt;</th></tr>\n",
              "</thead>\n",
              "<tbody>\n",
              "\t<tr><th scope=row>1</th><td>5.1</td><td>3.5</td><td>1.4</td><td>0.2</td><td>setosa</td></tr>\n",
              "\t<tr><th scope=row>2</th><td>4.9</td><td>3.0</td><td>1.4</td><td>0.2</td><td>setosa</td></tr>\n",
              "\t<tr><th scope=row>3</th><td>4.7</td><td>3.2</td><td>1.3</td><td>0.2</td><td>setosa</td></tr>\n",
              "</tbody>\n",
              "</table>\n"
            ]
          },
          "metadata": {
            "tags": []
          }
        }
      ]
    },
    {
      "cell_type": "markdown",
      "metadata": {
        "id": "xT53l2VJ4ZSo"
      },
      "source": [
        "### Etiquetas"
      ]
    },
    {
      "cell_type": "code",
      "metadata": {
        "colab": {
          "base_uri": "https://localhost:8080/"
        },
        "id": "g7uLOYcQWIBE",
        "outputId": "ed88aa1a-bdf4-4191-9cfb-49e8e0f38d13"
      },
      "source": [
        "library(\"tidyverse\")"
      ],
      "execution_count": 4,
      "outputs": [
        {
          "output_type": "stream",
          "text": [
            "Warning message in system(\"timedatectl\", intern = TRUE):\n",
            "“running command 'timedatectl' had status 1”\n",
            "── \u001b[1mAttaching packages\u001b[22m ─────────────────────────────────────── tidyverse 1.3.0 ──\n",
            "\n",
            "\u001b[32m✔\u001b[39m \u001b[34mggplot2\u001b[39m 3.3.3     \u001b[32m✔\u001b[39m \u001b[34mpurrr  \u001b[39m 0.3.4\n",
            "\u001b[32m✔\u001b[39m \u001b[34mtibble \u001b[39m 3.1.0     \u001b[32m✔\u001b[39m \u001b[34mdplyr  \u001b[39m 1.0.5\n",
            "\u001b[32m✔\u001b[39m \u001b[34mtidyr  \u001b[39m 1.1.3     \u001b[32m✔\u001b[39m \u001b[34mstringr\u001b[39m 1.4.0\n",
            "\u001b[32m✔\u001b[39m \u001b[34mreadr  \u001b[39m 1.4.0     \u001b[32m✔\u001b[39m \u001b[34mforcats\u001b[39m 0.5.1\n",
            "\n",
            "── \u001b[1mConflicts\u001b[22m ────────────────────────────────────────── tidyverse_conflicts() ──\n",
            "\u001b[31m✖\u001b[39m \u001b[34mdplyr\u001b[39m::\u001b[32mfilter()\u001b[39m masks \u001b[34mstats\u001b[39m::filter()\n",
            "\u001b[31m✖\u001b[39m \u001b[34mdplyr\u001b[39m::\u001b[32mlag()\u001b[39m    masks \u001b[34mstats\u001b[39m::lag()\n",
            "\n"
          ],
          "name": "stderr"
        }
      ]
    },
    {
      "cell_type": "code",
      "metadata": {
        "colab": {
          "base_uri": "https://localhost:8080/",
          "height": 0
        },
        "id": "hCvSCyPtG2qx",
        "outputId": "3ea94e1d-80c4-4f2f-cc3c-5cf30fc67a57"
      },
      "source": [
        "labels <- unique(data$Species)\n",
        "labels"
      ],
      "execution_count": 5,
      "outputs": [
        {
          "output_type": "display_data",
          "data": {
            "text/plain": [
              "[1] setosa     versicolor virginica \n",
              "Levels: setosa versicolor virginica"
            ],
            "text/latex": "\\begin{enumerate*}\n\\item setosa\n\\item versicolor\n\\item virginica\n\\end{enumerate*}\n\n\\emph{Levels}: \\begin{enumerate*}\n\\item 'setosa'\n\\item 'versicolor'\n\\item 'virginica'\n\\end{enumerate*}\n",
            "text/markdown": "1. setosa\n2. versicolor\n3. virginica\n\n\n\n**Levels**: 1. 'setosa'\n2. 'versicolor'\n3. 'virginica'\n\n\n",
            "text/html": [
              "<style>\n",
              ".list-inline {list-style: none; margin:0; padding: 0}\n",
              ".list-inline>li {display: inline-block}\n",
              ".list-inline>li:not(:last-child)::after {content: \"\\00b7\"; padding: 0 .5ex}\n",
              "</style>\n",
              "<ol class=list-inline><li>setosa</li><li>versicolor</li><li>virginica</li></ol>\n",
              "\n",
              "<details>\n",
              "\t<summary style=display:list-item;cursor:pointer>\n",
              "\t\t<strong>Levels</strong>:\n",
              "\t</summary>\n",
              "\t<style>\n",
              "\t.list-inline {list-style: none; margin:0; padding: 0}\n",
              "\t.list-inline>li {display: inline-block}\n",
              "\t.list-inline>li:not(:last-child)::after {content: \"\\00b7\"; padding: 0 .5ex}\n",
              "\t</style>\n",
              "\t<ol class=list-inline><li>'setosa'</li><li>'versicolor'</li><li>'virginica'</li></ol>\n",
              "</details>"
            ]
          },
          "metadata": {
            "tags": []
          }
        }
      ]
    },
    {
      "cell_type": "markdown",
      "metadata": {
        "id": "AfnVK9jfuJmz"
      },
      "source": [
        "### Elección de subconjunto\n",
        "En este caso, solo usaremos las clases\n",
        "\n",
        "* Virginica\n",
        "* Versicolor"
      ]
    },
    {
      "cell_type": "code",
      "metadata": {
        "colab": {
          "base_uri": "https://localhost:8080/",
          "height": 0
        },
        "id": "bV5lkyYeuQ2R",
        "outputId": "3af30932-09db-4d8b-8126-1a689740c44e"
      },
      "source": [
        "data <- filter(data, Species==\"virginica\"|Species==\"versicolor\")\n",
        "\n",
        "head(data, 3)"
      ],
      "execution_count": 6,
      "outputs": [
        {
          "output_type": "display_data",
          "data": {
            "text/plain": [
              "  Sepal.Length Sepal.Width Petal.Length Petal.Width Species   \n",
              "1 7.0          3.2         4.7          1.4         versicolor\n",
              "2 6.4          3.2         4.5          1.5         versicolor\n",
              "3 6.9          3.1         4.9          1.5         versicolor"
            ],
            "text/latex": "A data.frame: 3 × 5\n\\begin{tabular}{r|lllll}\n  & Sepal.Length & Sepal.Width & Petal.Length & Petal.Width & Species\\\\\n  & <dbl> & <dbl> & <dbl> & <dbl> & <fct>\\\\\n\\hline\n\t1 & 7.0 & 3.2 & 4.7 & 1.4 & versicolor\\\\\n\t2 & 6.4 & 3.2 & 4.5 & 1.5 & versicolor\\\\\n\t3 & 6.9 & 3.1 & 4.9 & 1.5 & versicolor\\\\\n\\end{tabular}\n",
            "text/markdown": "\nA data.frame: 3 × 5\n\n| <!--/--> | Sepal.Length &lt;dbl&gt; | Sepal.Width &lt;dbl&gt; | Petal.Length &lt;dbl&gt; | Petal.Width &lt;dbl&gt; | Species &lt;fct&gt; |\n|---|---|---|---|---|---|\n| 1 | 7.0 | 3.2 | 4.7 | 1.4 | versicolor |\n| 2 | 6.4 | 3.2 | 4.5 | 1.5 | versicolor |\n| 3 | 6.9 | 3.1 | 4.9 | 1.5 | versicolor |\n\n",
            "text/html": [
              "<table class=\"dataframe\">\n",
              "<caption>A data.frame: 3 × 5</caption>\n",
              "<thead>\n",
              "\t<tr><th></th><th scope=col>Sepal.Length</th><th scope=col>Sepal.Width</th><th scope=col>Petal.Length</th><th scope=col>Petal.Width</th><th scope=col>Species</th></tr>\n",
              "\t<tr><th></th><th scope=col>&lt;dbl&gt;</th><th scope=col>&lt;dbl&gt;</th><th scope=col>&lt;dbl&gt;</th><th scope=col>&lt;dbl&gt;</th><th scope=col>&lt;fct&gt;</th></tr>\n",
              "</thead>\n",
              "<tbody>\n",
              "\t<tr><th scope=row>1</th><td>7.0</td><td>3.2</td><td>4.7</td><td>1.4</td><td>versicolor</td></tr>\n",
              "\t<tr><th scope=row>2</th><td>6.4</td><td>3.2</td><td>4.5</td><td>1.5</td><td>versicolor</td></tr>\n",
              "\t<tr><th scope=row>3</th><td>6.9</td><td>3.1</td><td>4.9</td><td>1.5</td><td>versicolor</td></tr>\n",
              "</tbody>\n",
              "</table>\n"
            ]
          },
          "metadata": {
            "tags": []
          }
        }
      ]
    },
    {
      "cell_type": "markdown",
      "metadata": {
        "id": "Scd99S1ZWSqZ"
      },
      "source": [
        "Obtenemos la cantidad de observaciones y la dimensión (Recordando que una pertenece a la etiqueta)\n",
        "\n",
        "* $100$ Observaciones.\n",
        "* $4$ Características más una perteneciente a la etiqueta."
      ]
    },
    {
      "cell_type": "code",
      "metadata": {
        "colab": {
          "base_uri": "https://localhost:8080/"
        },
        "id": "SOz6JFrUWPWV",
        "outputId": "17661955-9dcc-4f1a-9de7-cdfcf70b32e2"
      },
      "source": [
        "N <- dim(data)[1]\n",
        "d <- dim(data)[2]\n",
        "print(c(N, d))"
      ],
      "execution_count": 7,
      "outputs": [
        {
          "output_type": "stream",
          "text": [
            "[1] 100   5\n"
          ],
          "name": "stdout"
        }
      ]
    },
    {
      "cell_type": "markdown",
      "metadata": {
        "id": "5GDvr24NWlBS"
      },
      "source": [
        "### Proporcion de clases\n",
        "\n",
        "Notamos que las clases seleccionadas tienen 50% de proporcion del conjunto. \n",
        "\n",
        "Por lo anteior, la probabilidad a priori de las dos clases es $\\frac{1}{2}$."
      ]
    },
    {
      "cell_type": "code",
      "metadata": {
        "colab": {
          "base_uri": "https://localhost:8080/",
          "height": 0
        },
        "id": "elSYPSNHWla2",
        "outputId": "f1af7baf-5cff-4883-9208-82a58be1bd08"
      },
      "source": [
        "round(prop.table(table(data$Species)) * 100, 1)"
      ],
      "execution_count": 8,
      "outputs": [
        {
          "output_type": "display_data",
          "data": {
            "text/plain": [
              "\n",
              "    setosa versicolor  virginica \n",
              "         0         50         50 "
            ]
          },
          "metadata": {
            "tags": []
          }
        }
      ]
    },
    {
      "cell_type": "markdown",
      "metadata": {
        "id": "1IUhYOGc2AJw"
      },
      "source": [
        "## Visualización\n",
        "Visualizamos las proyecciones sobre las componentes principales. Podemos notar que \n",
        "\n",
        "* Existe cierta separación de clases.\n",
        "* Las estructuras de las nubes de puntos son similares, aunque tambien debemos tomar en cuenta que contamos con pocos datos."
      ]
    },
    {
      "cell_type": "code",
      "metadata": {
        "id": "moDbj7QC5dLT"
      },
      "source": [
        "# 1. Agregamos una nueva columna que asigna un color. Usaremos para graficar\n",
        "data <- mutate(\n",
        "    data, \n",
        "    color = fct_recode(\n",
        "        as.character(data$Species),\n",
        "        \"red\" = \"virginica\",\n",
        "        \"blue\" = \"versicolor\" \n",
        "    )\n",
        ")"
      ],
      "execution_count": 9,
      "outputs": []
    },
    {
      "cell_type": "code",
      "metadata": {
        "colab": {
          "base_uri": "https://localhost:8080/",
          "height": 0
        },
        "id": "SkqLSQ3R2D6T",
        "outputId": "2bb4dd84-b6e0-4069-edc8-6b7c2703d2c5"
      },
      "source": [
        "# 1. Calculo de componentes principales a partir de matriz de correlacion\n",
        "#    Omitimos ademas la clase/especie (Columna 5)\n",
        "pca <- princomp(data[,-c(5, 6)] , cor = TRUE)\n",
        "\n",
        "plot(pca$scores[,1:2], xlim = range(pca$scores[,1]), ylim = range(pca$scores[,2]), col=data$color)"
      ],
      "execution_count": 10,
      "outputs": [
        {
          "output_type": "display_data",
          "data": {
            "image/png": "[encoded data removed]",
            "text/plain": [
              "plot without title"
            ]
          },
          "metadata": {
            "tags": [],
            "image/png": {
              "width": 420,
              "height": 420
            }
          }
        }
      ]
    },
    {
      "cell_type": "code",
      "metadata": {
        "colab": {
          "base_uri": "https://localhost:8080/",
          "height": 0
        },
        "id": "DRRejQz3CbZm",
        "outputId": "33704c1f-a2e2-4dd7-c6e3-1f4ca2774994"
      },
      "source": [
        "t(pca$loadings)\n",
        "\n",
        "pca$scores[1,]\n",
        "as.matrix(data[1, -c(5, 6)])\n",
        "t(pca$loadings) %*% t(as.matrix(data[1, -c(5, 6)]) - pca$center)"
      ],
      "execution_count": 11,
      "outputs": [
        {
          "output_type": "display_data",
          "data": {
            "text/plain": [
              "\n",
              "Loadings:\n",
              "       Sepal.Length Sepal.Width Petal.Length Petal.Width\n",
              "Comp.1  0.507        0.435       0.544        0.508     \n",
              "Comp.2  0.221       -0.888       0.380        0.134     \n",
              "Comp.3  0.693                                -0.718     \n",
              "Comp.4  0.462       -0.136      -0.748        0.456     \n",
              "\n",
              "               Sepal.Length Sepal.Width Petal.Length Petal.Width\n",
              "SS loadings            1.00        1.00         1.00        1.00\n",
              "Proportion Var         0.25        0.25         0.25        0.25\n",
              "Cumulative Var         0.25        0.50         0.75        1.00"
            ]
          },
          "metadata": {
            "tags": []
          }
        },
        {
          "output_type": "display_data",
          "data": {
            "text/plain": [
              "    Comp.1     Comp.2     Comp.3     Comp.4 \n",
              " 0.5300016 -0.8158836  1.3046797  0.2724662 "
            ],
            "text/latex": "\\begin{description*}\n\\item[Comp.1] 0.53000157152753\n\\item[Comp.2] -0.815883582242803\n\\item[Comp.3] 1.30467966720536\n\\item[Comp.4] 0.272466249371972\n\\end{description*}\n",
            "text/markdown": "Comp.1\n:   0.53000157152753Comp.2\n:   -0.815883582242803Comp.3\n:   1.30467966720536Comp.4\n:   0.272466249371972\n\n",
            "text/html": [
              "<style>\n",
              ".dl-inline {width: auto; margin:0; padding: 0}\n",
              ".dl-inline>dt, .dl-inline>dd {float: none; width: auto; display: inline-block}\n",
              ".dl-inline>dt::after {content: \":\\0020\"; padding-right: .5ex}\n",
              ".dl-inline>dt:not(:first-of-type) {padding-left: .5ex}\n",
              "</style><dl class=dl-inline><dt>Comp.1</dt><dd>0.53000157152753</dd><dt>Comp.2</dt><dd>-0.815883582242803</dd><dt>Comp.3</dt><dd>1.30467966720536</dd><dt>Comp.4</dt><dd>0.272466249371972</dd></dl>\n"
            ]
          },
          "metadata": {
            "tags": []
          }
        },
        {
          "output_type": "display_data",
          "data": {
            "text/plain": [
              "  Sepal.Length Sepal.Width Petal.Length Petal.Width\n",
              "1 7            3.2         4.7          1.4        "
            ],
            "text/latex": "A matrix: 1 × 4 of type dbl\n\\begin{tabular}{r|llll}\n  & Sepal.Length & Sepal.Width & Petal.Length & Petal.Width\\\\\n\\hline\n\t1 & 7 & 3.2 & 4.7 & 1.4\\\\\n\\end{tabular}\n",
            "text/markdown": "\nA matrix: 1 × 4 of type dbl\n\n| <!--/--> | Sepal.Length | Sepal.Width | Petal.Length | Petal.Width |\n|---|---|---|---|---|\n| 1 | 7 | 3.2 | 4.7 | 1.4 |\n\n",
            "text/html": [
              "<table class=\"dataframe\">\n",
              "<caption>A matrix: 1 × 4 of type dbl</caption>\n",
              "<thead>\n",
              "\t<tr><th></th><th scope=col>Sepal.Length</th><th scope=col>Sepal.Width</th><th scope=col>Petal.Length</th><th scope=col>Petal.Width</th></tr>\n",
              "</thead>\n",
              "<tbody>\n",
              "\t<tr><th scope=row>1</th><td>7</td><td>3.2</td><td>4.7</td><td>1.4</td></tr>\n",
              "</tbody>\n",
              "</table>\n"
            ]
          },
          "metadata": {
            "tags": []
          }
        },
        {
          "output_type": "display_data",
          "data": {
            "text/plain": [
              "       1         \n",
              "Comp.1  0.2646120\n",
              "Comp.2 -0.2437261\n",
              "Comp.3  0.7320186\n",
              "Comp.4  0.3249107"
            ],
            "text/latex": "A matrix: 4 × 1 of type dbl\n\\begin{tabular}{r|l}\n  & 1\\\\\n\\hline\n\tComp.1 &  0.2646120\\\\\n\tComp.2 & -0.2437261\\\\\n\tComp.3 &  0.7320186\\\\\n\tComp.4 &  0.3249107\\\\\n\\end{tabular}\n",
            "text/markdown": "\nA matrix: 4 × 1 of type dbl\n\n| <!--/--> | 1 |\n|---|---|\n| Comp.1 |  0.2646120 |\n| Comp.2 | -0.2437261 |\n| Comp.3 |  0.7320186 |\n| Comp.4 |  0.3249107 |\n\n",
            "text/html": [
              "<table class=\"dataframe\">\n",
              "<caption>A matrix: 4 × 1 of type dbl</caption>\n",
              "<thead>\n",
              "\t<tr><th></th><th scope=col>1</th></tr>\n",
              "</thead>\n",
              "<tbody>\n",
              "\t<tr><th scope=row>Comp.1</th><td> 0.2646120</td></tr>\n",
              "\t<tr><th scope=row>Comp.2</th><td>-0.2437261</td></tr>\n",
              "\t<tr><th scope=row>Comp.3</th><td> 0.7320186</td></tr>\n",
              "\t<tr><th scope=row>Comp.4</th><td> 0.3249107</td></tr>\n",
              "</tbody>\n",
              "</table>\n"
            ]
          },
          "metadata": {
            "tags": []
          }
        }
      ]
    },
    {
      "cell_type": "markdown",
      "metadata": {
        "id": "UpAlIX9C6DVq"
      },
      "source": [
        "# LDA\n",
        "\n",
        "Denotamos por $n_1$ la cantidad de elementos de la clase 1 en la muestra y por $n_2$ la cantidad de elementos de la clase 2. Buscamos una funcion lineal que \n",
        "\n",
        "* Separe lo más posible los centroides de la clase.\n",
        "* Minimice la varianza de las clases proyectas. "
      ]
    },
    {
      "cell_type": "code",
      "metadata": {
        "id": "m11Sps7bFmuC"
      },
      "source": [
        "# 1. Separacion de clases\n",
        "class_1 <- filter(data, Species == \"versicolor\")[, -c(5,6)]\n",
        "class_2 <- filter(data, Species == \"virginica\")[, -c(5,6)]\n",
        "overall_class <- data[,-c(6, 5)]\n",
        "# 2. Guardamos la cantidad de datos de cada clase para calculos posteriores\n",
        "n_1 <- nrow(class_1)\n",
        "n_2 <- nrow(class_2)"
      ],
      "execution_count": 12,
      "outputs": []
    },
    {
      "cell_type": "markdown",
      "metadata": {
        "id": "7AVfJ3dh8vkx"
      },
      "source": [
        "## Centroides de clases\n",
        "\n",
        "* Observamos los centroides (medias muestrales) de cada clase y los guardamos para su uso posterior. \n",
        "* También construimos la media muestral general."
      ]
    },
    {
      "cell_type": "code",
      "metadata": {
        "colab": {
          "base_uri": "https://localhost:8080/",
          "height": 0
        },
        "id": "SMMu3RN96FgB",
        "outputId": "8bcca361-caad-45cc-e4b4-81d68e76dd31"
      },
      "source": [
        "mean_1 <- colMeans(class_1)\n",
        "mean_2 <- colMeans(class_2)\n",
        "\n",
        "mean_1\n",
        "mean_2"
      ],
      "execution_count": 13,
      "outputs": [
        {
          "output_type": "display_data",
          "data": {
            "text/plain": [
              "Sepal.Length  Sepal.Width Petal.Length  Petal.Width \n",
              "       5.936        2.770        4.260        1.326 "
            ],
            "text/latex": "\\begin{description*}\n\\item[Sepal.Length] 5.936\n\\item[Sepal.Width] 2.77\n\\item[Petal.Length] 4.26\n\\item[Petal.Width] 1.326\n\\end{description*}\n",
            "text/markdown": "Sepal.Length\n:   5.936Sepal.Width\n:   2.77Petal.Length\n:   4.26Petal.Width\n:   1.326\n\n",
            "text/html": [
              "<style>\n",
              ".dl-inline {width: auto; margin:0; padding: 0}\n",
              ".dl-inline>dt, .dl-inline>dd {float: none; width: auto; display: inline-block}\n",
              ".dl-inline>dt::after {content: \":\\0020\"; padding-right: .5ex}\n",
              ".dl-inline>dt:not(:first-of-type) {padding-left: .5ex}\n",
              "</style><dl class=dl-inline><dt>Sepal.Length</dt><dd>5.936</dd><dt>Sepal.Width</dt><dd>2.77</dd><dt>Petal.Length</dt><dd>4.26</dd><dt>Petal.Width</dt><dd>1.326</dd></dl>\n"
            ]
          },
          "metadata": {
            "tags": []
          }
        },
        {
          "output_type": "display_data",
          "data": {
            "text/plain": [
              "Sepal.Length  Sepal.Width Petal.Length  Petal.Width \n",
              "       6.588        2.974        5.552        2.026 "
            ],
            "text/latex": "\\begin{description*}\n\\item[Sepal.Length] 6.588\n\\item[Sepal.Width] 2.974\n\\item[Petal.Length] 5.552\n\\item[Petal.Width] 2.026\n\\end{description*}\n",
            "text/markdown": "Sepal.Length\n:   6.588Sepal.Width\n:   2.974Petal.Length\n:   5.552Petal.Width\n:   2.026\n\n",
            "text/html": [
              "<style>\n",
              ".dl-inline {width: auto; margin:0; padding: 0}\n",
              ".dl-inline>dt, .dl-inline>dd {float: none; width: auto; display: inline-block}\n",
              ".dl-inline>dt::after {content: \":\\0020\"; padding-right: .5ex}\n",
              ".dl-inline>dt:not(:first-of-type) {padding-left: .5ex}\n",
              "</style><dl class=dl-inline><dt>Sepal.Length</dt><dd>6.588</dd><dt>Sepal.Width</dt><dd>2.974</dd><dt>Petal.Length</dt><dd>5.552</dd><dt>Petal.Width</dt><dd>2.026</dd></dl>\n"
            ]
          },
          "metadata": {
            "tags": []
          }
        }
      ]
    },
    {
      "cell_type": "code",
      "metadata": {
        "colab": {
          "base_uri": "https://localhost:8080/",
          "height": 0
        },
        "id": "Q-zgT9FIRPhe",
        "outputId": "cbc71f18-7f29-4474-9174-820a88df6d10"
      },
      "source": [
        "overall_mean <- (mean_1 + mean_2) * 0.5 # colMeans(overall_class)\n",
        "overall_mean\n",
        "\n",
        "pca$center"
      ],
      "execution_count": 14,
      "outputs": [
        {
          "output_type": "display_data",
          "data": {
            "text/plain": [
              "Sepal.Length  Sepal.Width Petal.Length  Petal.Width \n",
              "       6.262        2.872        4.906        1.676 "
            ],
            "text/latex": "\\begin{description*}\n\\item[Sepal.Length] 6.262\n\\item[Sepal.Width] 2.872\n\\item[Petal.Length] 4.906\n\\item[Petal.Width] 1.676\n\\end{description*}\n",
            "text/markdown": "Sepal.Length\n:   6.262Sepal.Width\n:   2.872Petal.Length\n:   4.906Petal.Width\n:   1.676\n\n",
            "text/html": [
              "<style>\n",
              ".dl-inline {width: auto; margin:0; padding: 0}\n",
              ".dl-inline>dt, .dl-inline>dd {float: none; width: auto; display: inline-block}\n",
              ".dl-inline>dt::after {content: \":\\0020\"; padding-right: .5ex}\n",
              ".dl-inline>dt:not(:first-of-type) {padding-left: .5ex}\n",
              "</style><dl class=dl-inline><dt>Sepal.Length</dt><dd>6.262</dd><dt>Sepal.Width</dt><dd>2.872</dd><dt>Petal.Length</dt><dd>4.906</dd><dt>Petal.Width</dt><dd>1.676</dd></dl>\n"
            ]
          },
          "metadata": {
            "tags": []
          }
        },
        {
          "output_type": "display_data",
          "data": {
            "text/plain": [
              "Sepal.Length  Sepal.Width Petal.Length  Petal.Width \n",
              "       6.262        2.872        4.906        1.676 "
            ],
            "text/latex": "\\begin{description*}\n\\item[Sepal.Length] 6.262\n\\item[Sepal.Width] 2.872\n\\item[Petal.Length] 4.906\n\\item[Petal.Width] 1.676\n\\end{description*}\n",
            "text/markdown": "Sepal.Length\n:   6.262Sepal.Width\n:   2.872Petal.Length\n:   4.906Petal.Width\n:   1.676\n\n",
            "text/html": [
              "<style>\n",
              ".dl-inline {width: auto; margin:0; padding: 0}\n",
              ".dl-inline>dt, .dl-inline>dd {float: none; width: auto; display: inline-block}\n",
              ".dl-inline>dt::after {content: \":\\0020\"; padding-right: .5ex}\n",
              ".dl-inline>dt:not(:first-of-type) {padding-left: .5ex}\n",
              "</style><dl class=dl-inline><dt>Sepal.Length</dt><dd>6.262</dd><dt>Sepal.Width</dt><dd>2.872</dd><dt>Petal.Length</dt><dd>4.906</dd><dt>Petal.Width</dt><dd>1.676</dd></dl>\n"
            ]
          },
          "metadata": {
            "tags": []
          }
        }
      ]
    },
    {
      "cell_type": "markdown",
      "metadata": {
        "id": "rPOknppFa7gh"
      },
      "source": [
        "Visualizamos las medias sobre las componentes principales. \n",
        "\n",
        "* Los puntos rellenos pertenecen a las medias muestrales de cada clase. \n",
        "* El triáángulo verde pertenece a la media muestral general."
      ]
    },
    {
      "cell_type": "code",
      "metadata": {
        "colab": {
          "base_uri": "https://localhost:8080/",
          "height": 0
        },
        "id": "lQbeHRYHFVFx",
        "outputId": "75a02155-45a6-4689-ba2e-2a67a2283e44"
      },
      "source": [
        "# 1. Para proyectar las medias muestrales, primero las centramos y reescalamos.\n",
        "proyected_mean_1 <- t(t(pca$loadings) %*% \n",
        "    ((mean_1 - pca$center) / pca$scale ))[1:2] #Tomamos primeras dos componentes\n",
        "proyected_mean_2 <- t(t(pca$loadings) %*% \n",
        "    ((mean_2 - pca$center) / pca$scale ))[1:2]#Tomamos primeras dos componentes\n",
        "# 2. Mismo procedimiento para proyectar la media muestral general.\n",
        "proyected_overall_mean <- t(t(pca$loadings) %*% \n",
        "    ((overall_mean - pca$center) / pca$scale ))[1:2]\n",
        "# 3. Mostramos las observaciones sobre componentes principales\n",
        "plot(\n",
        "    pca$scores[,1:2], xlim = range(pca$scores[,1]), \n",
        "    ylim = range(pca$scores[,2]), col=data$color\n",
        ")\n",
        "# 4. Mostramos medias muestrales\n",
        "points( c(proyected_mean_1[1]), c(proyected_mean_1[2]), col=1, pch=19)\n",
        "points( c(proyected_mean_2[1]), c(proyected_mean_2[2]), col=2, pch=19)\n",
        "# 5. Mostramos media muestral general\n",
        "points(c(proyected_overall_mean[1]),c(proyected_overall_mean[2]),col=4,pch=17)"
      ],
      "execution_count": 15,
      "outputs": [
        {
          "output_type": "display_data",
          "data": {
            "image/png": "[encoded data removed]",
            "text/plain": [
              "plot without title"
            ]
          },
          "metadata": {
            "tags": [],
            "image/png": {
              "width": 420,
              "height": 420
            }
          }
        }
      ]
    },
    {
      "cell_type": "markdown",
      "metadata": {
        "id": "2ngoHbUjFbfZ"
      },
      "source": [
        "## Matrices de covarianza de clases\n",
        "\n",
        "Suponemos que las matrices de covarianza son iguales, esto es $$\\Sigma_1 = \\Sigma_2 = \\Sigma$$"
      ]
    },
    {
      "cell_type": "markdown",
      "metadata": {
        "id": "HBlHDb9jrT2w"
      },
      "source": [
        "Observamos __las estimaciones de las matrices de covarianza de cada clase__. Las denotamos como $$S_1, S_2$$"
      ]
    },
    {
      "cell_type": "code",
      "metadata": {
        "colab": {
          "base_uri": "https://localhost:8080/",
          "height": 0
        },
        "id": "Prt8LbEM6oTT",
        "outputId": "5a9b7c38-d685-4444-fba7-4c72db784ff3"
      },
      "source": [
        "S_1 <- cov(class_1)\n",
        "S_2 <- cov(class_2)\n",
        "S_1\n",
        "S_2"
      ],
      "execution_count": 16,
      "outputs": [
        {
          "output_type": "display_data",
          "data": {
            "text/plain": [
              "             Sepal.Length Sepal.Width Petal.Length Petal.Width\n",
              "Sepal.Length 0.26643265   0.08518367  0.18289796   0.05577959 \n",
              "Sepal.Width  0.08518367   0.09846939  0.08265306   0.04120408 \n",
              "Petal.Length 0.18289796   0.08265306  0.22081633   0.07310204 \n",
              "Petal.Width  0.05577959   0.04120408  0.07310204   0.03910612 "
            ],
            "text/latex": "A matrix: 4 × 4 of type dbl\n\\begin{tabular}{r|llll}\n  & Sepal.Length & Sepal.Width & Petal.Length & Petal.Width\\\\\n\\hline\n\tSepal.Length & 0.26643265 & 0.08518367 & 0.18289796 & 0.05577959\\\\\n\tSepal.Width & 0.08518367 & 0.09846939 & 0.08265306 & 0.04120408\\\\\n\tPetal.Length & 0.18289796 & 0.08265306 & 0.22081633 & 0.07310204\\\\\n\tPetal.Width & 0.05577959 & 0.04120408 & 0.07310204 & 0.03910612\\\\\n\\end{tabular}\n",
            "text/markdown": "\nA matrix: 4 × 4 of type dbl\n\n| <!--/--> | Sepal.Length | Sepal.Width | Petal.Length | Petal.Width |\n|---|---|---|---|---|\n| Sepal.Length | 0.26643265 | 0.08518367 | 0.18289796 | 0.05577959 |\n| Sepal.Width | 0.08518367 | 0.09846939 | 0.08265306 | 0.04120408 |\n| Petal.Length | 0.18289796 | 0.08265306 | 0.22081633 | 0.07310204 |\n| Petal.Width | 0.05577959 | 0.04120408 | 0.07310204 | 0.03910612 |\n\n",
            "text/html": [
              "<table class=\"dataframe\">\n",
              "<caption>A matrix: 4 × 4 of type dbl</caption>\n",
              "<thead>\n",
              "\t<tr><th></th><th scope=col>Sepal.Length</th><th scope=col>Sepal.Width</th><th scope=col>Petal.Length</th><th scope=col>Petal.Width</th></tr>\n",
              "</thead>\n",
              "<tbody>\n",
              "\t<tr><th scope=row>Sepal.Length</th><td>0.26643265</td><td>0.08518367</td><td>0.18289796</td><td>0.05577959</td></tr>\n",
              "\t<tr><th scope=row>Sepal.Width</th><td>0.08518367</td><td>0.09846939</td><td>0.08265306</td><td>0.04120408</td></tr>\n",
              "\t<tr><th scope=row>Petal.Length</th><td>0.18289796</td><td>0.08265306</td><td>0.22081633</td><td>0.07310204</td></tr>\n",
              "\t<tr><th scope=row>Petal.Width</th><td>0.05577959</td><td>0.04120408</td><td>0.07310204</td><td>0.03910612</td></tr>\n",
              "</tbody>\n",
              "</table>\n"
            ]
          },
          "metadata": {
            "tags": []
          }
        },
        {
          "output_type": "display_data",
          "data": {
            "text/plain": [
              "             Sepal.Length Sepal.Width Petal.Length Petal.Width\n",
              "Sepal.Length 0.40434286   0.09376327  0.30328980   0.04909388 \n",
              "Sepal.Width  0.09376327   0.10400408  0.07137959   0.04762857 \n",
              "Petal.Length 0.30328980   0.07137959  0.30458776   0.04882449 \n",
              "Petal.Width  0.04909388   0.04762857  0.04882449   0.07543265 "
            ],
            "text/latex": "A matrix: 4 × 4 of type dbl\n\\begin{tabular}{r|llll}\n  & Sepal.Length & Sepal.Width & Petal.Length & Petal.Width\\\\\n\\hline\n\tSepal.Length & 0.40434286 & 0.09376327 & 0.30328980 & 0.04909388\\\\\n\tSepal.Width & 0.09376327 & 0.10400408 & 0.07137959 & 0.04762857\\\\\n\tPetal.Length & 0.30328980 & 0.07137959 & 0.30458776 & 0.04882449\\\\\n\tPetal.Width & 0.04909388 & 0.04762857 & 0.04882449 & 0.07543265\\\\\n\\end{tabular}\n",
            "text/markdown": "\nA matrix: 4 × 4 of type dbl\n\n| <!--/--> | Sepal.Length | Sepal.Width | Petal.Length | Petal.Width |\n|---|---|---|---|---|\n| Sepal.Length | 0.40434286 | 0.09376327 | 0.30328980 | 0.04909388 |\n| Sepal.Width | 0.09376327 | 0.10400408 | 0.07137959 | 0.04762857 |\n| Petal.Length | 0.30328980 | 0.07137959 | 0.30458776 | 0.04882449 |\n| Petal.Width | 0.04909388 | 0.04762857 | 0.04882449 | 0.07543265 |\n\n",
            "text/html": [
              "<table class=\"dataframe\">\n",
              "<caption>A matrix: 4 × 4 of type dbl</caption>\n",
              "<thead>\n",
              "\t<tr><th></th><th scope=col>Sepal.Length</th><th scope=col>Sepal.Width</th><th scope=col>Petal.Length</th><th scope=col>Petal.Width</th></tr>\n",
              "</thead>\n",
              "<tbody>\n",
              "\t<tr><th scope=row>Sepal.Length</th><td>0.40434286</td><td>0.09376327</td><td>0.30328980</td><td>0.04909388</td></tr>\n",
              "\t<tr><th scope=row>Sepal.Width</th><td>0.09376327</td><td>0.10400408</td><td>0.07137959</td><td>0.04762857</td></tr>\n",
              "\t<tr><th scope=row>Petal.Length</th><td>0.30328980</td><td>0.07137959</td><td>0.30458776</td><td>0.04882449</td></tr>\n",
              "\t<tr><th scope=row>Petal.Width</th><td>0.04909388</td><td>0.04762857</td><td>0.04882449</td><td>0.07543265</td></tr>\n",
              "</tbody>\n",
              "</table>\n"
            ]
          },
          "metadata": {
            "tags": []
          }
        }
      ]
    },
    {
      "cell_type": "code",
      "metadata": {
        "colab": {
          "base_uri": "https://localhost:8080/",
          "height": 0
        },
        "id": "Ny5wMZqypeGx",
        "outputId": "1b84ca11-62e7-4afa-aa9a-cedc559a0084"
      },
      "source": [
        "S_1 - S_2"
      ],
      "execution_count": 17,
      "outputs": [
        {
          "output_type": "display_data",
          "data": {
            "text/plain": [
              "             Sepal.Length Sepal.Width  Petal.Length Petal.Width \n",
              "Sepal.Length -0.137910204 -0.008579592 -0.12039184   0.006685714\n",
              "Sepal.Width  -0.008579592 -0.005534694  0.01127347  -0.006424490\n",
              "Petal.Length -0.120391837  0.011273469 -0.08377143   0.024277551\n",
              "Petal.Width   0.006685714 -0.006424490  0.02427755  -0.036326531"
            ],
            "text/latex": "A matrix: 4 × 4 of type dbl\n\\begin{tabular}{r|llll}\n  & Sepal.Length & Sepal.Width & Petal.Length & Petal.Width\\\\\n\\hline\n\tSepal.Length & -0.137910204 & -0.008579592 & -0.12039184 &  0.006685714\\\\\n\tSepal.Width & -0.008579592 & -0.005534694 &  0.01127347 & -0.006424490\\\\\n\tPetal.Length & -0.120391837 &  0.011273469 & -0.08377143 &  0.024277551\\\\\n\tPetal.Width &  0.006685714 & -0.006424490 &  0.02427755 & -0.036326531\\\\\n\\end{tabular}\n",
            "text/markdown": "\nA matrix: 4 × 4 of type dbl\n\n| <!--/--> | Sepal.Length | Sepal.Width | Petal.Length | Petal.Width |\n|---|---|---|---|---|\n| Sepal.Length | -0.137910204 | -0.008579592 | -0.12039184 |  0.006685714 |\n| Sepal.Width | -0.008579592 | -0.005534694 |  0.01127347 | -0.006424490 |\n| Petal.Length | -0.120391837 |  0.011273469 | -0.08377143 |  0.024277551 |\n| Petal.Width |  0.006685714 | -0.006424490 |  0.02427755 | -0.036326531 |\n\n",
            "text/html": [
              "<table class=\"dataframe\">\n",
              "<caption>A matrix: 4 × 4 of type dbl</caption>\n",
              "<thead>\n",
              "\t<tr><th></th><th scope=col>Sepal.Length</th><th scope=col>Sepal.Width</th><th scope=col>Petal.Length</th><th scope=col>Petal.Width</th></tr>\n",
              "</thead>\n",
              "<tbody>\n",
              "\t<tr><th scope=row>Sepal.Length</th><td>-0.137910204</td><td>-0.008579592</td><td>-0.12039184</td><td> 0.006685714</td></tr>\n",
              "\t<tr><th scope=row>Sepal.Width</th><td>-0.008579592</td><td>-0.005534694</td><td> 0.01127347</td><td>-0.006424490</td></tr>\n",
              "\t<tr><th scope=row>Petal.Length</th><td>-0.120391837</td><td> 0.011273469</td><td>-0.08377143</td><td> 0.024277551</td></tr>\n",
              "\t<tr><th scope=row>Petal.Width</th><td> 0.006685714</td><td>-0.006424490</td><td> 0.02427755</td><td>-0.036326531</td></tr>\n",
              "</tbody>\n",
              "</table>\n"
            ]
          },
          "metadata": {
            "tags": []
          }
        }
      ]
    },
    {
      "cell_type": "markdown",
      "metadata": {
        "id": "ttHN6AvmiN_N"
      },
      "source": [
        "Notemos que la matriz que se obtiene de la diferencia de ambas estimaciones de matrices de covarianza tiene valores de orden menor o igual a `1e-2` salvo por 3 valores que son del orden de `1e-1`. \n",
        "\n",
        "Debido a que contamos con pocos datos y los valores de las matrices son parecidos, vamos a suponer que las matrices de covarianza de ambas clases son iguales aunque se debe tomar en cuenta los resultados aquí obtenidos.  "
      ]
    },
    {
      "cell_type": "markdown",
      "metadata": {
        "id": "T0W5VFvJg8Xv"
      },
      "source": [
        "Además, __Estimamos la matriz de covarianza__ basándonos en $$W = (n_1 - 1)S_1 + (n_2 - 1)S_2$$ donde $$W / (n_1 + n_ 2 - 2) = S$$ es la estimación de $\\Sigma$ (Según el libro JohnsonMVA pag 623 eq. (11-61)  ). En clase, denotamos esta estimación $S$ de la matriz de covarianza como $S_W$."
      ]
    },
    {
      "cell_type": "code",
      "metadata": {
        "colab": {
          "base_uri": "https://localhost:8080/",
          "height": 0
        },
        "id": "PPMCEUPOesVB",
        "outputId": "c123bbc9-a38b-400f-a82c-85699eda26ac"
      },
      "source": [
        "W <- ((n_1 - 1)*S_1) + ((n_2 - 1) * S_2)\n",
        "\n",
        "S_W <- W * (1 / (n_1 + n_2 - 2))\n",
        "S_W"
      ],
      "execution_count": 18,
      "outputs": [
        {
          "output_type": "display_data",
          "data": {
            "text/plain": [
              "             Sepal.Length Sepal.Width Petal.Length Petal.Width\n",
              "Sepal.Length 0.33538776   0.08947347  0.24309388   0.05243673 \n",
              "Sepal.Width  0.08947347   0.10123673  0.07701633   0.04441633 \n",
              "Petal.Length 0.24309388   0.07701633  0.26270204   0.06096327 \n",
              "Petal.Width  0.05243673   0.04441633  0.06096327   0.05726939 "
            ],
            "text/latex": "A matrix: 4 × 4 of type dbl\n\\begin{tabular}{r|llll}\n  & Sepal.Length & Sepal.Width & Petal.Length & Petal.Width\\\\\n\\hline\n\tSepal.Length & 0.33538776 & 0.08947347 & 0.24309388 & 0.05243673\\\\\n\tSepal.Width & 0.08947347 & 0.10123673 & 0.07701633 & 0.04441633\\\\\n\tPetal.Length & 0.24309388 & 0.07701633 & 0.26270204 & 0.06096327\\\\\n\tPetal.Width & 0.05243673 & 0.04441633 & 0.06096327 & 0.05726939\\\\\n\\end{tabular}\n",
            "text/markdown": "\nA matrix: 4 × 4 of type dbl\n\n| <!--/--> | Sepal.Length | Sepal.Width | Petal.Length | Petal.Width |\n|---|---|---|---|---|\n| Sepal.Length | 0.33538776 | 0.08947347 | 0.24309388 | 0.05243673 |\n| Sepal.Width | 0.08947347 | 0.10123673 | 0.07701633 | 0.04441633 |\n| Petal.Length | 0.24309388 | 0.07701633 | 0.26270204 | 0.06096327 |\n| Petal.Width | 0.05243673 | 0.04441633 | 0.06096327 | 0.05726939 |\n\n",
            "text/html": [
              "<table class=\"dataframe\">\n",
              "<caption>A matrix: 4 × 4 of type dbl</caption>\n",
              "<thead>\n",
              "\t<tr><th></th><th scope=col>Sepal.Length</th><th scope=col>Sepal.Width</th><th scope=col>Petal.Length</th><th scope=col>Petal.Width</th></tr>\n",
              "</thead>\n",
              "<tbody>\n",
              "\t<tr><th scope=row>Sepal.Length</th><td>0.33538776</td><td>0.08947347</td><td>0.24309388</td><td>0.05243673</td></tr>\n",
              "\t<tr><th scope=row>Sepal.Width</th><td>0.08947347</td><td>0.10123673</td><td>0.07701633</td><td>0.04441633</td></tr>\n",
              "\t<tr><th scope=row>Petal.Length</th><td>0.24309388</td><td>0.07701633</td><td>0.26270204</td><td>0.06096327</td></tr>\n",
              "\t<tr><th scope=row>Petal.Width</th><td>0.05243673</td><td>0.04441633</td><td>0.06096327</td><td>0.05726939</td></tr>\n",
              "</tbody>\n",
              "</table>\n"
            ]
          },
          "metadata": {
            "tags": []
          }
        }
      ]
    },
    {
      "cell_type": "markdown",
      "metadata": {
        "id": "-LI-eGF0G87S"
      },
      "source": [
        "## LDA\n",
        "\n",
        "Ahora que hemos supuesto que la matriz de covarianza es la misma para cada clase, nuestro problema de encontrar la función lineal se convierte en encontrar la dirección de proyeccion $l$ que maximiza \n",
        "\n",
        "$$\\frac{l^{T} S_{B} l}{l^{T} S_{W} l }$$\n",
        "\n",
        "donde $S_{W}$ es la esimación de la matriz de covarianza de ambas clases y $$S_{B} = (c_{+} - c_{-})(c_{+} - c_{-})^{T}$$ es el vector que une ambos centroides (estimaciones de las medias de cada clase) $c_{+}$ y $c_{-}$. En el problema 1 de la tarea vimos que, usando la desigualdad Cauchy-Schwartz, encontramos esta dirección que está dada por $$l = S_{W}^{-1}(c_{+} - c_{-})$$ \n"
      ]
    },
    {
      "cell_type": "code",
      "metadata": {
        "colab": {
          "base_uri": "https://localhost:8080/",
          "height": 0
        },
        "id": "1Mys_mGUeoBW",
        "outputId": "1dab9a13-9644-4bc8-f41c-d84edc4df93a"
      },
      "source": [
        "# 1. Encontramos la direccion l usando el resultado anterior\n",
        "l <- solve(S_W) %*% (mean_1 - mean_2)\n",
        "# 2. Proyectamos los datos sobre la direccion l\n",
        "Y <- t(l) %*% t(as.matrix(overall_class))\n",
        "# 3. Mostramos la proyeccion\n",
        "plot(cbind(t(Y), t(Y)), xlim = range(Y), ylim = range(Y), col=data$color)\n",
        "points( \n",
        "    c(t(l) %*% as.matrix(mean_1)), \n",
        "    c(t(l) %*% as.matrix(mean_1)), \n",
        "    col=1, pch=19, lwd = 10\n",
        ")\n",
        "points( \n",
        "    c(t(l) %*% as.matrix(mean_2)), \n",
        "    c(t(l) %*% as.matrix(mean_2)), \n",
        "    col=2, pch=19, lwd = 10\n",
        ")"
      ],
      "execution_count": 19,
      "outputs": [
        {
          "output_type": "display_data",
          "data": {
            "image/png": "[encoded data removed]",
            "text/plain": [
              "plot without title"
            ]
          },
          "metadata": {
            "tags": [],
            "image/png": {
              "width": 420,
              "height": 420
            }
          }
        }
      ]
    },
    {
      "cell_type": "markdown",
      "metadata": {
        "id": "bhbzBx35u1iD"
      },
      "source": [
        "* En la grafica se muestran los puntos $(l^{T}x_i,l^{T}x_i)$ para una primera visualización. Podemos notar que los datos se separan casi por completo. \n",
        "\n",
        "* Por otro lado, podemos observar las proyecciones de las medias muestrales de cada clase, $$l^{T}c_{+}, l^{T}c_{-}$$ en la gráfica son los puntos de mayor tamaño. Observando sus valores numéricos notamos una diferencia de aproximadamente $14.21cm$. "
      ]
    },
    {
      "cell_type": "code",
      "metadata": {
        "colab": {
          "base_uri": "https://localhost:8080/",
          "height": 0
        },
        "id": "V_fV2X7YBWby",
        "outputId": "f7c97a4d-215b-42ac-fce9-276806830fa3"
      },
      "source": [
        "# 1. Observamos las proyecciones de las medias muestrales de cada clase\n",
        "as.numeric(t(l) %*% as.matrix(mean_1))\n",
        "as.numeric(t(l) %*% as.matrix(mean_2))\n",
        "# 2. Calculamos distancias entre medias\n",
        "as.numeric(t(l) %*% as.matrix(mean_1)) - as.numeric(t(l) %*% as.matrix(mean_2))"
      ],
      "execution_count": 20,
      "outputs": [
        {
          "output_type": "display_data",
          "data": {
            "text/plain": [
              "[1] -9.553643"
            ],
            "text/latex": "-9.55364254484093",
            "text/markdown": "-9.55364254484093",
            "text/html": [
              "-9.55364254484093"
            ]
          },
          "metadata": {
            "tags": []
          }
        },
        {
          "output_type": "display_data",
          "data": {
            "text/plain": [
              "[1] -23.77253"
            ],
            "text/latex": "-23.7725283528031",
            "text/markdown": "-23.7725283528031",
            "text/html": [
              "-23.7725283528031"
            ]
          },
          "metadata": {
            "tags": []
          }
        },
        {
          "output_type": "display_data",
          "data": {
            "text/plain": [
              "[1] 14.21889"
            ],
            "text/latex": "14.2188858079622",
            "text/markdown": "14.2188858079622",
            "text/html": [
              "14.2188858079622"
            ]
          },
          "metadata": {
            "tags": []
          }
        }
      ]
    },
    {
      "cell_type": "markdown",
      "metadata": {
        "id": "DQp_n53IHZwn"
      },
      "source": [
        "* Luego, calculamos la variabilidad por clase, esto es $$l^{T} S_{W} l $$"
      ]
    },
    {
      "cell_type": "code",
      "metadata": {
        "colab": {
          "base_uri": "https://localhost:8080/",
          "height": 0
        },
        "id": "BlCE7V8CHgzJ",
        "outputId": "26a71958-d0f6-4211-b007-ba09d2522acf"
      },
      "source": [
        "as.numeric( ( t(as.matrix(l)) %*% as.matrix(S_W)) %*% as.matrix(l) )"
      ],
      "execution_count": 21,
      "outputs": [
        {
          "output_type": "display_data",
          "data": {
            "text/plain": [
              "[1] 14.21889"
            ],
            "text/latex": "14.2188858079622",
            "text/markdown": "14.2188858079622",
            "text/html": [
              "14.2188858079622"
            ]
          },
          "metadata": {
            "tags": []
          }
        }
      ]
    },
    {
      "cell_type": "markdown",
      "metadata": {
        "id": "mWJwFjTOTB0Y"
      },
      "source": [
        "## Clasificador\n",
        "\n",
        "Ahora bien, nos proponemos construir un clasificador. Una opción es usar un punto de corte para obtener una función de la forma $$L(x) = l^{T}x + b_0$$ donde $l = S_W^{-1}(c_{+} - c_{-})$, y hacer la clasificación comparando $L(x)$ con 0. \n",
        "\n",
        "Si suponemos gaussianidad, este valor $b_0$ está dado por $$b_0 = -\\frac{1}{2}\\left[ \\mu_1^{T}\\Sigma^{-1}\\mu_1 - \\mu_2^{T}\\Sigma^{-1}\\mu_2 \\right] + \\log_e(\\pi_2 / \\pi_1)$$ $$=-\\frac{1}{2}\\left[ \\mu_1^{T}\\Sigma^{-1}\\mu_1 - \\mu_2^{T}\\Sigma^{-1}\\mu_2 \\right]$$\n",
        "donde $\\pi_i$ son las probabilidades a priori de cada clase (en este caso ambas son $\\frac{1}{2}$), $\\mu_1$ y $\\mu_2$ son las medias teóricas y $\\Sigma$ la matriz de covarianza de ambas clases (Según Izenman pag. 243 eq. (8.13)). "
      ]
    },
    {
      "cell_type": "markdown",
      "metadata": {
        "id": "l2GzD7wnbHUi"
      },
      "source": [
        "### Prueba de Gaussianidad\n",
        "Haciendo uso de la librería `MVN` podemos verificar la gaussianidad (o falta de esta) de los datos."
      ]
    },
    {
      "cell_type": "code",
      "metadata": {
        "id": "zwvMg7xla5Ae"
      },
      "source": [
        "#library(\"MVN\")\n",
        "#royston_test <- mvn(data = overall_class, mvnTest = \"royston\", multivariatePlot = \"qq\")\n",
        "#royston_test$multivariateNormality"
      ],
      "execution_count": 22,
      "outputs": []
    },
    {
      "cell_type": "markdown",
      "metadata": {
        "id": "up9itcNSeTOV"
      },
      "source": [
        "### Clasificador suponiendo gaussianidad"
      ]
    },
    {
      "cell_type": "code",
      "metadata": {
        "id": "7IIXfVR-TDjI"
      },
      "source": [
        "b_0 <- -0.5 * ( ((t(mean_1) %*% solve(S_W)) %*% mean_1) - ((t(mean_2) %*% solve(S_W)) %*% mean_2) )"
      ],
      "execution_count": 23,
      "outputs": []
    },
    {
      "cell_type": "code",
      "metadata": {
        "id": "U-eRUrdGW5k2"
      },
      "source": [
        "# Construimos clasificador lineal de la forma Ind(L(x) > 0)\n",
        "L <- function(x){\n",
        "    if ( t(as.matrix(l)) %*% t(as.matrix(x)) + b_0 > 0 ) {return (2)}\n",
        "    return (1)\n",
        "}"
      ],
      "execution_count": 24,
      "outputs": []
    },
    {
      "cell_type": "code",
      "metadata": {
        "colab": {
          "base_uri": "https://localhost:8080/"
        },
        "id": "I3ysdldpjIBi",
        "outputId": "54e4f08d-07b5-432b-aebc-fcfb356ce9a9"
      },
      "source": [
        "library(\"caret\")"
      ],
      "execution_count": 25,
      "outputs": [
        {
          "output_type": "stream",
          "text": [
            "Loading required package: lattice\n",
            "\n",
            "\n",
            "Attaching package: ‘caret’\n",
            "\n",
            "\n",
            "The following object is masked from ‘package:purrr’:\n",
            "\n",
            "    lift\n",
            "\n",
            "\n"
          ],
          "name": "stderr"
        }
      ]
    },
    {
      "cell_type": "code",
      "metadata": {
        "colab": {
          "base_uri": "https://localhost:8080/",
          "height": 0
        },
        "id": "4Y5f8y1pXQXn",
        "outputId": "13c71a43-217e-410f-b443-eea0887bcbf8"
      },
      "source": [
        "# Clasificamos\n",
        "Y_predicted <- c()\n",
        "for(i in 1:N){\n",
        "    Y_predicted <- c(Y_predicted, L(overall_class[i,]))\n",
        "}\n",
        "\n",
        "Y_predicted <- fct_recode(\n",
        "    as.character(Y_predicted),\n",
        "    \"virginica\" = \"1\",\n",
        "    \"versicolor\" = \"2\"\n",
        ")\n",
        "\n",
        "matrix <- confusionMatrix(data = Y_predicted, reference = data$Species)\n",
        "\n",
        "matrix$overall[\"Accuracy\"]\n",
        "matrix$overall\n",
        "matrix$table"
      ],
      "execution_count": 26,
      "outputs": [
        {
          "output_type": "stream",
          "text": [
            "Warning message in levels(reference) != levels(data):\n",
            "“longer object length is not a multiple of shorter object length”\n",
            "Warning message in confusionMatrix.default(data = Y_predicted, reference = data$Species):\n",
            "“Levels are not in the same order for reference and data. Refactoring data to match.”\n"
          ],
          "name": "stderr"
        },
        {
          "output_type": "display_data",
          "data": {
            "text/plain": [
              "Accuracy \n",
              "    0.97 "
            ],
            "text/latex": "\\textbf{Accuracy:} 0.97",
            "text/markdown": "**Accuracy:** 0.97",
            "text/html": [
              "<strong>Accuracy:</strong> 0.97"
            ]
          },
          "metadata": {
            "tags": []
          }
        },
        {
          "output_type": "display_data",
          "data": {
            "text/plain": [
              "      Accuracy          Kappa  AccuracyLower  AccuracyUpper   AccuracyNull \n",
              "  9.700000e-01   9.400000e-01   9.148239e-01   9.937700e-01   5.000000e-01 \n",
              "AccuracyPValue  McnemarPValue \n",
              "  1.315433e-25            NaN "
            ],
            "text/latex": "\\begin{description*}\n\\item[Accuracy] 0.97\n\\item[Kappa] 0.94\n\\item[AccuracyLower] 0.91482394702572\n\\item[AccuracyUpper] 0.993770028461694\n\\item[AccuracyNull] 0.5\n\\item[AccuracyPValue] 1.31543344806509e-25\n\\item[McnemarPValue] NaN\n\\end{description*}\n",
            "text/markdown": "Accuracy\n:   0.97Kappa\n:   0.94AccuracyLower\n:   0.91482394702572AccuracyUpper\n:   0.993770028461694AccuracyNull\n:   0.5AccuracyPValue\n:   1.31543344806509e-25McnemarPValue\n:   NaN\n\n",
            "text/html": [
              "<style>\n",
              ".dl-inline {width: auto; margin:0; padding: 0}\n",
              ".dl-inline>dt, .dl-inline>dd {float: none; width: auto; display: inline-block}\n",
              ".dl-inline>dt::after {content: \":\\0020\"; padding-right: .5ex}\n",
              ".dl-inline>dt:not(:first-of-type) {padding-left: .5ex}\n",
              "</style><dl class=dl-inline><dt>Accuracy</dt><dd>0.97</dd><dt>Kappa</dt><dd>0.94</dd><dt>AccuracyLower</dt><dd>0.91482394702572</dd><dt>AccuracyUpper</dt><dd>0.993770028461694</dd><dt>AccuracyNull</dt><dd>0.5</dd><dt>AccuracyPValue</dt><dd>1.31543344806509e-25</dd><dt>McnemarPValue</dt><dd>NaN</dd></dl>\n"
            ]
          },
          "metadata": {
            "tags": []
          }
        },
        {
          "output_type": "display_data",
          "data": {
            "text/plain": [
              "            Reference\n",
              "Prediction   setosa versicolor virginica\n",
              "  setosa          0          0         0\n",
              "  versicolor      0         48         1\n",
              "  virginica       0          2        49"
            ]
          },
          "metadata": {
            "tags": []
          }
        }
      ]
    },
    {
      "cell_type": "markdown",
      "metadata": {
        "id": "Xav91-uxYgxm"
      },
      "source": [
        "Notamos que nuestro clasificador logra un porcentaje de clasificación correcta de 97%. \n",
        "\n",
        "Otra posible idea de clasificador es asignar la clasificación a la clase que minimice el error cuadrático respecto a las medias, de esta forma, ya no es necesario suponer normalidad en los datos, sin embargo, la función ahora no será de la forma $L(x) > 0$. "
      ]
    },
    {
      "cell_type": "markdown",
      "metadata": {
        "id": "kGlPeZRgbQEV"
      },
      "source": [
        "# Conclusiones\n",
        "\n",
        "* Podemos notar que los resultados obtenidos con LDA son buenos, pues podemos apreciar que casi logra separar por completo las clases.\n",
        "* Una vez que encontramos la tranformación lineal que logra una mejor discriminación de clases, es posible construir un clasificador, por ejemplo asignando a la clase del centroide más cercano, o contruyendo un umbral, en este caso elegimos suponer gaussianidad y encontrar el punto de corte.\n",
        "* Suponiendo gaussianidad podemos contruir un clasificador que logra una precisión de 97% en el conjunto (de entrenamiento) de datos."
      ]
    }
  ]
}