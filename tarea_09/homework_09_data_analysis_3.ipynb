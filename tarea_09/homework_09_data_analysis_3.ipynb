{
  "nbformat": 4,
  "nbformat_minor": 0,
  "metadata": {
    "colab": {
      "name": "homework_09_data_analysis_3.ipynb",
      "provenance": [],
      "collapsed_sections": [
        "mXAzA3INlTFA",
        "nqJpuMsNoUOj",
        "z5OigC6gqwds",
        "3DTtWyP75vEd",
        "M0IGwPpOE152",
        "ZzZTzL-IApXl",
        "y_X9r9HXM_z9",
        "smnKNVyqNlL1"
      ],
      "toc_visible": true
    },
    "kernelspec": {
      "name": "ir",
      "display_name": "R"
    }
  },
  "cells": [
    {
      "cell_type": "markdown",
      "metadata": {
        "id": "mXAzA3INlTFA"
      },
      "source": [
        "# Instalación de paquetes"
      ]
    },
    {
      "cell_type": "code",
      "metadata": {
        "id": "Mx0Lqq22lncP"
      },
      "source": [
        "if(\"tidyverse\" %in% rownames(installed.packages()) == FALSE) {install.packages(\"tidyverse\")}\n",
        "if(\"kernlab\" %in% rownames(installed.packages()) == FALSE) {install.packages(\"kernlab\")}\n",
        "if(\"nnet\" %in% rownames(installed.packages()) == FALSE) {install.packages(\"nnet\")}"
      ],
      "execution_count": null,
      "outputs": []
    },
    {
      "cell_type": "markdown",
      "metadata": {
        "id": "nqJpuMsNoUOj"
      },
      "source": [
        "# Conjunto de Datos"
      ]
    },
    {
      "cell_type": "markdown",
      "metadata": {
        "id": "z5OigC6gqwds"
      },
      "source": [
        "##  Obtención de datos"
      ]
    },
    {
      "cell_type": "code",
      "metadata": {
        "id": "tJc__mslXZqT",
        "colab": {
          "base_uri": "https://localhost:8080/"
        },
        "outputId": "e5b4b272-08b3-40a4-8410-6aa0b766c6ad"
      },
      "source": [
        "library(\"kernlab\")\n",
        "library(\"dplyr\")"
      ],
      "execution_count": null,
      "outputs": [
        {
          "output_type": "stream",
          "text": [
            "\n",
            "Attaching package: ‘dplyr’\n",
            "\n",
            "\n",
            "The following objects are masked from ‘package:stats’:\n",
            "\n",
            "    filter, lag\n",
            "\n",
            "\n",
            "The following objects are masked from ‘package:base’:\n",
            "\n",
            "    intersect, setdiff, setequal, union\n",
            "\n",
            "\n"
          ],
          "name": "stderr"
        }
      ]
    },
    {
      "cell_type": "code",
      "metadata": {
        "id": "BJiVDL9WnFam"
      },
      "source": [
        "# Carga de datos y preprocesamiento\n",
        "data(spam)\n",
        "data <- spam\n",
        "data$Y0 <- as.integer(data$type != \"spam\")\n",
        "data$Y1 <- as.integer(data$type == \"spam\")\n",
        "data <- data %>% select(-type)"
      ],
      "execution_count": null,
      "outputs": []
    },
    {
      "cell_type": "markdown",
      "metadata": {
        "id": "3DTtWyP75vEd"
      },
      "source": [
        "## División en conjuntos de entrenamiento y prueba\n",
        "\n",
        "\n"
      ]
    },
    {
      "cell_type": "code",
      "metadata": {
        "id": "_iqTTsWU5tyl"
      },
      "source": [
        "# 1. Dividimos en conjuntos disjuntos de 75% y 25% del total\n",
        "sample_proportion <- 0.75\n",
        "# 2. Creamos un ID por fila para hacer la division estratificada del conjunto\n",
        "data <- data %>% mutate(id = row_number())\n",
        "# 3. Dividimos en conjuntos de entrenamiento y prueba\n",
        "set.seed(1234)\n",
        "train <- data %>% sample_frac(sample_proportion)\n",
        "test  <- anti_join(data, train, by = 'id')\n",
        "# 4. Eliminamos la columna auxiliar\n",
        "train <- select(train, -id)\n",
        "test <- select(test, -id)\n",
        "data <- select(data, -id)"
      ],
      "execution_count": null,
      "outputs": []
    },
    {
      "cell_type": "markdown",
      "metadata": {
        "id": "M0IGwPpOE152"
      },
      "source": [
        "### Proporcion de clases"
      ]
    },
    {
      "cell_type": "code",
      "metadata": {
        "colab": {
          "base_uri": "https://localhost:8080/"
        },
        "id": "AFltiLClcatt",
        "outputId": "444c347b-9824-4e39-ca70-e5a7df882123"
      },
      "source": [
        "# Verificamos que tengan la misma proporcion de registros\n",
        "print(\"Data size\")\n",
        "table(data$Y1) / nrow(data)\n",
        "\n",
        "print(\"Train size\")\n",
        "table(train$Y1) / nrow(train)\n",
        "\n",
        "print(\"Test size\")\n",
        "table(test$Y1) / nrow(test)"
      ],
      "execution_count": null,
      "outputs": [
        {
          "output_type": "stream",
          "text": [
            "[1] \"Data size\"\n"
          ],
          "name": "stdout"
        },
        {
          "output_type": "display_data",
          "data": {
            "text/plain": [
              "\n",
              "        0         1 \n",
              "0.6059552 0.3940448 "
            ]
          },
          "metadata": {
            "tags": []
          }
        },
        {
          "output_type": "stream",
          "text": [
            "[1] \"Train size\"\n"
          ],
          "name": "stdout"
        },
        {
          "output_type": "display_data",
          "data": {
            "text/plain": [
              "\n",
              "        0         1 \n",
              "0.6079397 0.3920603 "
            ]
          },
          "metadata": {
            "tags": []
          }
        },
        {
          "output_type": "stream",
          "text": [
            "[1] \"Test size\"\n"
          ],
          "name": "stdout"
        },
        {
          "output_type": "display_data",
          "data": {
            "text/plain": [
              "\n",
              "  0   1 \n",
              "0.6 0.4 "
            ]
          },
          "metadata": {
            "tags": []
          }
        }
      ]
    },
    {
      "cell_type": "markdown",
      "metadata": {
        "id": "ZzZTzL-IApXl"
      },
      "source": [
        "# Redes Neuronales"
      ]
    },
    {
      "cell_type": "code",
      "metadata": {
        "id": "I8aQIKVpZleN"
      },
      "source": [
        "library(\"nnet\")"
      ],
      "execution_count": null,
      "outputs": []
    },
    {
      "cell_type": "markdown",
      "metadata": {
        "id": "y_X9r9HXM_z9"
      },
      "source": [
        "## Usando todas las variables"
      ]
    },
    {
      "cell_type": "code",
      "metadata": {
        "colab": {
          "base_uri": "https://localhost:8080/"
        },
        "id": "tfczSSa3At_0",
        "outputId": "c2cf0898-339d-4710-d736-beeadd5c0101"
      },
      "source": [
        "set.seed(1234)\n",
        "nn <- nnet(\n",
        "    cbind(Y0, Y1) ~ ., \n",
        "    data=train, \n",
        "    size=15, \n",
        "    maxit=1000, \n",
        "    softmax=TRUE\n",
        ")\n",
        "\n",
        "pred <- predict(nn, newdata = test)\n",
        "# Dado que la red regresa un vector de probabilidades, \n",
        "# usamos la componente que nos indica la probabilidad \n",
        "# de que un correo sea spam\n",
        "aux <- c()\n",
        "for(i in 1:nrow(pred)){\n",
        "    if(pred[i,1] <= pred[i,2]){\n",
        "        aux <- c(aux, 1)\n",
        "    }else{\n",
        "        aux <- c(aux, 0)\n",
        "    }\n",
        "}\n",
        "pred <- as.integer(aux)"
      ],
      "execution_count": null,
      "outputs": [
        {
          "output_type": "stream",
          "text": [
            "# weights:  902\n",
            "initial  value 2908.828317 \n",
            "iter  10 value 2042.076423\n",
            "iter  20 value 1794.346297\n",
            "iter  30 value 1456.353596\n",
            "iter  40 value 855.859131\n",
            "iter  50 value 518.644080\n",
            "iter  60 value 459.269415\n",
            "iter  70 value 453.857965\n",
            "iter  80 value 441.100441\n",
            "iter  90 value 418.528704\n",
            "iter 100 value 374.834785\n",
            "iter 110 value 343.338827\n",
            "iter 120 value 317.229615\n",
            "iter 130 value 286.459046\n",
            "iter 140 value 264.251530\n",
            "iter 150 value 245.907965\n",
            "iter 160 value 228.777736\n",
            "iter 170 value 226.305623\n",
            "iter 180 value 225.545695\n",
            "iter 190 value 223.474032\n",
            "iter 200 value 220.505736\n",
            "iter 210 value 218.095927\n",
            "iter 220 value 215.229497\n",
            "iter 230 value 212.600099\n",
            "iter 240 value 207.006950\n",
            "iter 250 value 203.718977\n",
            "iter 260 value 198.925206\n",
            "iter 270 value 192.327694\n",
            "iter 280 value 189.989411\n",
            "iter 290 value 187.595063\n",
            "iter 300 value 183.427916\n",
            "iter 310 value 179.384052\n",
            "iter 320 value 174.117134\n",
            "iter 330 value 171.748344\n",
            "iter 340 value 166.900975\n",
            "iter 350 value 163.310695\n",
            "iter 360 value 160.813526\n",
            "iter 370 value 157.680731\n",
            "iter 380 value 155.823943\n",
            "iter 390 value 154.724737\n",
            "iter 400 value 153.646184\n",
            "iter 410 value 153.215908\n",
            "iter 420 value 152.973316\n",
            "iter 430 value 152.874432\n",
            "iter 440 value 152.810074\n",
            "iter 450 value 152.787566\n",
            "iter 460 value 152.770653\n",
            "final  value 152.770644 \n",
            "converged\n"
          ],
          "name": "stdout"
        }
      ]
    },
    {
      "cell_type": "code",
      "metadata": {
        "colab": {
          "base_uri": "https://localhost:8080/",
          "height": 139
        },
        "id": "mT3nhxHgMJOZ",
        "outputId": "1d14e00a-405d-4b61-d8fc-a5067cfce132"
      },
      "source": [
        "\"Matriz de confusion\"\n",
        "table <- table(test$Y1, pred)\n",
        "table\n",
        "\"Precision sobre conjunto de prueba\"\n",
        "accuracy <- sum(diag(table)) / sum(table)\n",
        "accuracy"
      ],
      "execution_count": null,
      "outputs": [
        {
          "output_type": "display_data",
          "data": {
            "text/plain": [
              "[1] \"Matriz de confusion\""
            ],
            "text/latex": "'Matriz de confusion'",
            "text/markdown": "'Matriz de confusion'",
            "text/html": [
              "'Matriz de confusion'"
            ]
          },
          "metadata": {
            "tags": []
          }
        },
        {
          "output_type": "display_data",
          "data": {
            "text/plain": [
              "   pred\n",
              "      0   1\n",
              "  0 657  33\n",
              "  1  47 413"
            ]
          },
          "metadata": {
            "tags": []
          }
        },
        {
          "output_type": "display_data",
          "data": {
            "text/plain": [
              "[1] \"Precision sobre conjunto de prueba\""
            ],
            "text/latex": "'Precision sobre conjunto de prueba'",
            "text/markdown": "'Precision sobre conjunto de prueba'",
            "text/html": [
              "'Precision sobre conjunto de prueba'"
            ]
          },
          "metadata": {
            "tags": []
          }
        },
        {
          "output_type": "display_data",
          "data": {
            "text/plain": [
              "[1] 0.9304348"
            ],
            "text/latex": "0.930434782608696",
            "text/markdown": "0.930434782608696",
            "text/html": [
              "0.930434782608696"
            ]
          },
          "metadata": {
            "tags": []
          }
        }
      ]
    },
    {
      "cell_type": "code",
      "metadata": {
        "colab": {
          "base_uri": "https://localhost:8080/"
        },
        "id": "lBfuI4O-SZK8",
        "outputId": "81eab21c-25d6-4dde-eadc-1adfa104b356"
      },
      "source": [
        "set.seed(1234)\n",
        "nn <- nnet(\n",
        "    cbind(Y0, Y1) ~ ., \n",
        "    data=train, \n",
        "    size=10,\n",
        "    maxit=1000, \n",
        "    softmax=TRUE\n",
        ")\n",
        "\n",
        "pred <- predict(nn, newdata = test)\n",
        "aux <- c()\n",
        "for(i in 1:nrow(pred)){\n",
        "    if(pred[i,1] <= pred[i,2]){\n",
        "        aux <- c(aux, 1)\n",
        "    }else{\n",
        "        aux <- c(aux, 0)\n",
        "    }\n",
        "}\n",
        "pred <- as.integer(aux)"
      ],
      "execution_count": null,
      "outputs": [
        {
          "output_type": "stream",
          "text": [
            "# weights:  602\n",
            "initial  value 2303.511575 \n",
            "iter  10 value 1312.739347\n",
            "iter  20 value 823.809494\n",
            "iter  30 value 684.941742\n",
            "iter  40 value 647.432974\n",
            "iter  50 value 620.620015\n",
            "iter  60 value 523.073696\n",
            "iter  70 value 457.120510\n",
            "iter  80 value 416.115628\n",
            "iter  90 value 382.935239\n",
            "iter 100 value 365.154950\n",
            "iter 110 value 350.990205\n",
            "iter 120 value 341.496466\n",
            "iter 130 value 331.674918\n",
            "iter 140 value 324.010490\n",
            "iter 150 value 317.267326\n",
            "iter 160 value 315.222048\n",
            "iter 170 value 311.943835\n",
            "iter 180 value 309.435248\n",
            "iter 190 value 307.711964\n",
            "iter 200 value 305.825835\n",
            "iter 210 value 304.383399\n",
            "iter 220 value 300.961263\n",
            "iter 230 value 300.745975\n",
            "iter 240 value 300.703008\n",
            "iter 250 value 300.674657\n",
            "iter 260 value 300.623749\n",
            "iter 270 value 300.575657\n",
            "iter 280 value 300.559787\n",
            "iter 290 value 300.551787\n",
            "iter 300 value 300.547991\n",
            "iter 310 value 300.544914\n",
            "iter 320 value 300.537820\n",
            "iter 330 value 300.533460\n",
            "iter 340 value 300.530506\n",
            "iter 350 value 300.522879\n",
            "iter 360 value 300.503035\n",
            "iter 370 value 300.334783\n",
            "iter 380 value 300.117373\n",
            "iter 390 value 300.050112\n",
            "iter 400 value 300.011190\n",
            "iter 410 value 299.993988\n",
            "iter 420 value 299.981726\n",
            "iter 430 value 299.970591\n",
            "iter 440 value 299.967113\n",
            "iter 450 value 299.963905\n",
            "iter 460 value 299.960400\n",
            "iter 470 value 299.959040\n",
            "iter 480 value 299.955474\n",
            "iter 490 value 299.954128\n",
            "iter 500 value 299.951321\n",
            "iter 510 value 299.948998\n",
            "iter 520 value 299.947248\n",
            "iter 530 value 299.807656\n",
            "iter 540 value 299.794524\n",
            "iter 550 value 299.781584\n",
            "iter 560 value 299.777718\n",
            "iter 570 value 299.775959\n",
            "iter 580 value 299.774693\n",
            "iter 590 value 299.774080\n",
            "final  value 299.773528 \n",
            "converged\n"
          ],
          "name": "stdout"
        }
      ]
    },
    {
      "cell_type": "code",
      "metadata": {
        "colab": {
          "base_uri": "https://localhost:8080/",
          "height": 104
        },
        "id": "GtAmdv-FNHAW",
        "outputId": "2b3914ad-f885-4613-e453-b810b1c1e328"
      },
      "source": [
        "# Matriz de confusion\n",
        "table <- table(test$Y1, pred)\n",
        "table\n",
        "# Precision sobre conjunto de prueba\n",
        "accuracy <- sum(diag(table)) / sum(table)\n",
        "accuracy"
      ],
      "execution_count": null,
      "outputs": [
        {
          "output_type": "display_data",
          "data": {
            "text/plain": [
              "   pred\n",
              "      0   1\n",
              "  0 663  27\n",
              "  1  55 405"
            ]
          },
          "metadata": {
            "tags": []
          }
        },
        {
          "output_type": "display_data",
          "data": {
            "text/plain": [
              "[1] 0.9286957"
            ],
            "text/latex": "0.928695652173913",
            "text/markdown": "0.928695652173913",
            "text/html": [
              "0.928695652173913"
            ]
          },
          "metadata": {
            "tags": []
          }
        }
      ]
    },
    {
      "cell_type": "markdown",
      "metadata": {
        "id": "smnKNVyqNlL1"
      },
      "source": [
        "## Seleccionando variables"
      ]
    },
    {
      "cell_type": "code",
      "metadata": {
        "colab": {
          "base_uri": "https://localhost:8080/"
        },
        "id": "KU2DTUwrPAPa",
        "outputId": "f78e04b0-0bbd-458a-941b-c9963368171d"
      },
      "source": [
        "set.seed(1234)\n",
        "nn <- nnet(\n",
        "    cbind(Y0, Y1) ~ hp + hpl + num650 + lab + labs + \n",
        "    telnet + num857 + num415 + num85 + technology + \n",
        "    direct + capitalLong + capitalAve + capitalTotal, \n",
        "    data=train, \n",
        "    softmax=TRUE,\n",
        "    maxit=1000,\n",
        "    size=50\n",
        ")\n",
        "\n",
        "pred <- predict(nn, newdata = test)\n",
        "aux <- c()\n",
        "for(i in 1:nrow(pred)){\n",
        "    if(pred[i,1] <= pred[i,2]){\n",
        "        aux <- c(aux, 1)\n",
        "    }else{\n",
        "        aux <- c(aux, 0)\n",
        "    }\n",
        "}\n",
        "pred <- as.integer(aux)"
      ],
      "execution_count": null,
      "outputs": [
        {
          "output_type": "stream",
          "text": [
            "# weights:  852\n",
            "initial  value 4220.461887 \n",
            "iter  10 value 2071.159523\n",
            "iter  20 value 1819.621284\n",
            "iter  30 value 1478.594260\n",
            "iter  40 value 1365.946785\n",
            "iter  50 value 1259.499232\n",
            "iter  60 value 1230.994010\n",
            "iter  70 value 1221.298125\n",
            "iter  80 value 1209.197045\n",
            "iter  90 value 1172.575258\n",
            "iter 100 value 1154.758139\n",
            "iter 110 value 1137.255218\n",
            "iter 120 value 1128.085311\n",
            "iter 130 value 1117.070411\n",
            "iter 140 value 1114.230972\n",
            "iter 150 value 1112.037065\n",
            "iter 160 value 1110.229777\n",
            "iter 170 value 1109.433826\n",
            "iter 180 value 1107.507716\n",
            "iter 190 value 1107.205115\n",
            "iter 200 value 1105.660404\n",
            "iter 210 value 1099.204694\n",
            "iter 220 value 1089.075282\n",
            "iter 230 value 1088.909808\n",
            "iter 240 value 1088.051291\n",
            "iter 250 value 1084.630346\n",
            "iter 260 value 1080.359611\n",
            "iter 270 value 1072.595802\n",
            "iter 280 value 1065.812217\n",
            "iter 290 value 1060.528271\n",
            "iter 300 value 1055.079176\n",
            "iter 310 value 1054.495660\n",
            "iter 320 value 1052.850607\n",
            "iter 330 value 1050.333221\n",
            "iter 340 value 1047.562975\n",
            "iter 350 value 1045.294652\n",
            "iter 360 value 1042.540928\n",
            "iter 370 value 1038.975991\n",
            "iter 380 value 1035.659140\n",
            "iter 390 value 1032.312252\n",
            "iter 400 value 1030.042959\n",
            "iter 410 value 1027.859662\n",
            "iter 420 value 1025.765566\n",
            "iter 430 value 1024.307270\n",
            "iter 440 value 1024.039530\n",
            "iter 450 value 1023.817105\n",
            "iter 460 value 1023.543812\n",
            "iter 470 value 1022.943119\n",
            "iter 480 value 1022.344770\n",
            "iter 490 value 1020.099023\n",
            "iter 500 value 1016.218026\n",
            "iter 510 value 1009.762882\n",
            "iter 520 value 1005.375254\n",
            "iter 530 value 1000.238453\n",
            "iter 540 value 996.248491\n",
            "iter 550 value 993.002370\n",
            "iter 560 value 990.858265\n",
            "iter 570 value 989.027746\n",
            "iter 580 value 985.525013\n",
            "iter 590 value 983.177502\n",
            "iter 600 value 982.030531\n",
            "iter 610 value 980.264179\n",
            "iter 620 value 978.192098\n",
            "iter 630 value 977.868355\n",
            "iter 640 value 977.557720\n",
            "iter 650 value 977.113060\n",
            "iter 660 value 976.569314\n",
            "iter 670 value 976.125106\n",
            "iter 680 value 975.822030\n",
            "iter 690 value 975.443474\n",
            "iter 700 value 975.078933\n",
            "iter 710 value 974.101967\n",
            "iter 720 value 973.141100\n",
            "iter 730 value 972.565162\n",
            "iter 740 value 972.225465\n",
            "iter 750 value 972.008163\n",
            "iter 760 value 971.661637\n",
            "iter 770 value 971.120346\n",
            "iter 780 value 970.515383\n",
            "iter 790 value 969.511860\n",
            "iter 800 value 968.689757\n",
            "iter 810 value 967.831218\n",
            "iter 820 value 967.338867\n",
            "iter 830 value 967.061681\n",
            "iter 840 value 966.698775\n",
            "iter 850 value 966.443430\n",
            "iter 860 value 966.239405\n",
            "iter 870 value 966.038585\n",
            "iter 880 value 965.542407\n",
            "iter 890 value 965.188870\n",
            "iter 900 value 964.750684\n",
            "iter 910 value 964.568180\n",
            "iter 920 value 964.347069\n",
            "iter 930 value 964.096628\n",
            "iter 940 value 964.013871\n",
            "iter 950 value 964.009942\n",
            "iter 960 value 964.004371\n",
            "iter 970 value 963.969226\n",
            "iter 980 value 963.921313\n",
            "iter 990 value 963.878068\n",
            "iter1000 value 963.828600\n",
            "final  value 963.828600 \n",
            "stopped after 1000 iterations\n"
          ],
          "name": "stdout"
        }
      ]
    },
    {
      "cell_type": "code",
      "metadata": {
        "colab": {
          "base_uri": "https://localhost:8080/",
          "height": 104
        },
        "id": "TLX3QmnIPCtX",
        "outputId": "f1cccb5e-b946-4893-8fab-7772c8c89615"
      },
      "source": [
        "# Matriz de confusion\n",
        "table <- table(test$Y1, pred)\n",
        "table\n",
        "# Precision sobre conjunto de prueba\n",
        "accuracy <- sum(diag(table)) / sum(table)\n",
        "accuracy"
      ],
      "execution_count": null,
      "outputs": [
        {
          "output_type": "display_data",
          "data": {
            "text/plain": [
              "   pred\n",
              "      0   1\n",
              "  0 607  83\n",
              "  1  76 384"
            ]
          },
          "metadata": {
            "tags": []
          }
        },
        {
          "output_type": "display_data",
          "data": {
            "text/plain": [
              "[1] 0.8617391"
            ],
            "text/latex": "0.861739130434783",
            "text/markdown": "0.861739130434783",
            "text/html": [
              "0.861739130434783"
            ]
          },
          "metadata": {
            "tags": []
          }
        }
      ]
    },
    {
      "cell_type": "code",
      "metadata": {
        "colab": {
          "base_uri": "https://localhost:8080/"
        },
        "id": "YAyBbLQyNrJS",
        "outputId": "22ea6ae1-e18c-49e5-bd36-b2405ebe50df"
      },
      "source": [
        "set.seed(1234)\n",
        "nn <- nnet(\n",
        "    cbind(Y0, Y1) ~ hp + hpl + num650 + lab + labs + \n",
        "    telnet + num857 + num415 + num85 + technology + \n",
        "    direct + capitalLong + capitalAve + capitalTotal, \n",
        "    data=train, \n",
        "    softmax=TRUE,\n",
        "    maxit=1000,\n",
        "    size=15\n",
        ")\n",
        "\n",
        "pred <- predict(nn, newdata = test)\n",
        "aux <- c()\n",
        "for(i in 1:nrow(pred)){\n",
        "    if(pred[i,1] <= pred[i,2]){\n",
        "        aux <- c(aux, 1)\n",
        "    }else{\n",
        "        aux <- c(aux, 0)\n",
        "    }\n",
        "}\n",
        "pred <- as.integer(aux)"
      ],
      "execution_count": null,
      "outputs": [
        {
          "output_type": "stream",
          "text": [
            "# weights:  257\n",
            "initial  value 2478.135962 \n",
            "iter  10 value 2154.292478\n",
            "iter  20 value 2018.803881\n",
            "iter  30 value 1783.632248\n",
            "iter  40 value 1552.297753\n",
            "iter  50 value 1396.279031\n",
            "iter  60 value 1359.655937\n",
            "iter  70 value 1302.398496\n",
            "iter  80 value 1250.981195\n",
            "iter  90 value 1206.506859\n",
            "iter 100 value 1172.692908\n",
            "iter 110 value 1168.249911\n",
            "iter 120 value 1156.571874\n",
            "iter 130 value 1143.874499\n",
            "iter 140 value 1139.455709\n",
            "iter 150 value 1138.136261\n",
            "iter 160 value 1137.742831\n",
            "iter 170 value 1136.429076\n",
            "iter 180 value 1132.764369\n",
            "iter 190 value 1130.312357\n",
            "iter 200 value 1124.783165\n",
            "iter 210 value 1123.917753\n",
            "iter 220 value 1122.336715\n",
            "iter 230 value 1116.844685\n",
            "iter 240 value 1111.440980\n",
            "iter 250 value 1107.747532\n",
            "iter 260 value 1106.090475\n",
            "iter 270 value 1103.833419\n",
            "iter 280 value 1102.659770\n",
            "iter 290 value 1101.238712\n",
            "iter 300 value 1099.120931\n",
            "iter 310 value 1097.695273\n",
            "iter 320 value 1097.272217\n",
            "iter 330 value 1097.174786\n",
            "iter 340 value 1096.957114\n",
            "iter 350 value 1096.863155\n",
            "iter 360 value 1096.740141\n",
            "iter 370 value 1096.639907\n",
            "iter 380 value 1096.533188\n",
            "iter 390 value 1096.358675\n",
            "iter 400 value 1096.252551\n",
            "iter 410 value 1095.817663\n",
            "iter 420 value 1095.576928\n",
            "iter 430 value 1095.512760\n",
            "iter 440 value 1095.497716\n",
            "iter 450 value 1095.445635\n",
            "iter 460 value 1095.269436\n",
            "iter 470 value 1092.559142\n",
            "iter 480 value 1092.357274\n",
            "iter 490 value 1092.139080\n",
            "iter 500 value 1091.876228\n",
            "iter 510 value 1091.778307\n",
            "iter 520 value 1091.660386\n",
            "iter 530 value 1091.597181\n",
            "iter 540 value 1091.534439\n",
            "iter 550 value 1091.440590\n",
            "iter 560 value 1090.519034\n",
            "iter 570 value 1090.375260\n",
            "iter 580 value 1090.367430\n",
            "iter 590 value 1090.343333\n",
            "iter 600 value 1090.097499\n",
            "iter 610 value 1089.030791\n",
            "iter 620 value 1087.534300\n",
            "iter 630 value 1086.425528\n",
            "iter 640 value 1085.953462\n",
            "iter 650 value 1085.781011\n",
            "iter 660 value 1085.128025\n",
            "iter 670 value 1084.811983\n",
            "iter 680 value 1084.648659\n",
            "iter 690 value 1084.582963\n",
            "iter 700 value 1084.536142\n",
            "iter 710 value 1084.531231\n",
            "final  value 1084.528794 \n",
            "converged\n"
          ],
          "name": "stdout"
        }
      ]
    },
    {
      "cell_type": "code",
      "metadata": {
        "colab": {
          "base_uri": "https://localhost:8080/",
          "height": 104
        },
        "id": "IT5XqSi1O1Lc",
        "outputId": "a822b241-33c3-40d1-9c91-44b3f4a3bb21"
      },
      "source": [
        "# Matriz de confusion\n",
        "table <- table(test$Y1, pred)\n",
        "table\n",
        "# Precision sobre conjunto de prueba\n",
        "accuracy <- sum(diag(table)) / sum(table)\n",
        "accuracy"
      ],
      "execution_count": null,
      "outputs": [
        {
          "output_type": "display_data",
          "data": {
            "text/plain": [
              "   pred\n",
              "      0   1\n",
              "  0 603  87\n",
              "  1  78 382"
            ]
          },
          "metadata": {
            "tags": []
          }
        },
        {
          "output_type": "display_data",
          "data": {
            "text/plain": [
              "[1] 0.8565217"
            ],
            "text/latex": "0.856521739130435",
            "text/markdown": "0.856521739130435",
            "text/html": [
              "0.856521739130435"
            ]
          },
          "metadata": {
            "tags": []
          }
        }
      ]
    },
    {
      "cell_type": "code",
      "metadata": {
        "colab": {
          "base_uri": "https://localhost:8080/"
        },
        "id": "9KzOFlk_MtIV",
        "outputId": "98127dc8-f77b-43b9-d4dc-0b2f1f59422e"
      },
      "source": [
        "set.seed(1234)\n",
        "nn <- nnet(\n",
        "    cbind(Y0, Y1) ~ charDollar+num000+your+remove+free+business+our+hp+charExclamation+capitalTotal+receive, \n",
        "    data=train, \n",
        "    softmax=TRUE,\n",
        "    maxit=1000,\n",
        "    size=10\n",
        ")\n",
        "\n",
        "pred <- predict(nn, newdata = test)\n",
        "aux <- c()\n",
        "for(i in 1:nrow(pred)){\n",
        "    if(pred[i,1] <= pred[i,2]){\n",
        "        aux <- c(aux, 1)\n",
        "    }else{\n",
        "        aux <- c(aux, 0)\n",
        "    }\n",
        "}\n",
        "pred <- as.integer(aux)"
      ],
      "execution_count": null,
      "outputs": [
        {
          "output_type": "stream",
          "text": [
            "# weights:  142\n",
            "initial  value 2612.197262 \n",
            "iter  10 value 2087.202127\n",
            "iter  20 value 1127.403177\n",
            "iter  30 value 892.132654\n",
            "iter  40 value 806.947697\n",
            "iter  50 value 776.346038\n",
            "iter  60 value 767.025751\n",
            "iter  70 value 758.214741\n",
            "iter  80 value 741.390407\n",
            "iter  90 value 739.277247\n",
            "iter 100 value 738.953564\n",
            "iter 110 value 738.917244\n",
            "iter 120 value 738.228172\n",
            "iter 130 value 737.137894\n",
            "iter 140 value 731.333779\n",
            "iter 150 value 719.290561\n",
            "iter 160 value 707.624600\n",
            "iter 170 value 706.444213\n",
            "iter 180 value 705.365462\n",
            "iter 190 value 703.490010\n",
            "iter 200 value 703.334510\n",
            "iter 210 value 703.327218\n",
            "iter 220 value 703.299480\n",
            "iter 230 value 703.260936\n",
            "iter 240 value 703.243752\n",
            "iter 250 value 703.238124\n",
            "iter 260 value 703.233124\n",
            "iter 270 value 703.228104\n",
            "iter 280 value 703.225076\n",
            "iter 290 value 703.222357\n",
            "iter 300 value 703.217221\n",
            "iter 310 value 703.202578\n",
            "iter 320 value 703.187507\n",
            "iter 330 value 703.174136\n",
            "iter 340 value 703.160331\n",
            "iter 350 value 703.134108\n",
            "iter 360 value 703.099037\n",
            "iter 370 value 703.077192\n",
            "iter 380 value 703.068890\n",
            "iter 390 value 703.047342\n",
            "final  value 703.005449 \n",
            "converged\n"
          ],
          "name": "stdout"
        }
      ]
    },
    {
      "cell_type": "code",
      "metadata": {
        "colab": {
          "base_uri": "https://localhost:8080/",
          "height": 104
        },
        "id": "ArMAog_gM9y-",
        "outputId": "93e372cf-9d7e-48fc-d207-24baaf2f1e80"
      },
      "source": [
        "# Matriz de confusion\n",
        "table <- table(test$Y1, pred)\n",
        "table\n",
        "# Precision sobre conjunto de prueba\n",
        "accuracy <- sum(diag(table)) / sum(table)\n",
        "accuracy"
      ],
      "execution_count": null,
      "outputs": [
        {
          "output_type": "display_data",
          "data": {
            "text/plain": [
              "   pred\n",
              "      0   1\n",
              "  0 654  36\n",
              "  1  53 407"
            ]
          },
          "metadata": {
            "tags": []
          }
        },
        {
          "output_type": "display_data",
          "data": {
            "text/plain": [
              "[1] 0.9226087"
            ],
            "text/latex": "0.922608695652174",
            "text/markdown": "0.922608695652174",
            "text/html": [
              "0.922608695652174"
            ]
          },
          "metadata": {
            "tags": []
          }
        }
      ]
    }
  ]
}